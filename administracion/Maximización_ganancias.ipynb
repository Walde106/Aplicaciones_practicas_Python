{
  "nbformat": 4,
  "nbformat_minor": 0,
  "metadata": {
    "colab": {
      "provenance": []
    },
    "kernelspec": {
      "name": "python3",
      "display_name": "Python 3"
    },
    "language_info": {
      "name": "python"
    }
  },
  "cells": [
    {
      "cell_type": "markdown",
      "source": [
        "**Maximización de ganancias en la producción industrial: 2 productos**\n",
        "\n",
        "A modo de ilustrar este método general, se aplicará al estudio de ejemplo de la producción de nuestra empresa Omega que fabrica muebles. Debido a la baja en las ventas de algunos de sus productos, la gerencia decide modificar la línea de productos. Se dejarán de producir aquellos que no son rentables, lo que permitirá liberar capacidad de producción para 2 muebles que continúan con demanda alta: mesas de madera y mesas de vidrio con pies de aluminio.\n",
        "\n",
        "La empresa tiene 3 plantas, en las cuales se realizan diferentes etapas del proceso de producción:\n",
        "- La planta industrial 1: produce los pies y la base de las mesas de madera.\n",
        "- La planta industrial 2: produce el vidrio.\n",
        "- La planta industrial 3: produce los pies de aluminio para las mesas de vidrio y realiza el montaje de las mesas.\n",
        "\n",
        "La gerencia debe decidir ahora cuál será la mezcla de los productos, es decir, cuántas mesas de cada tipo deberá producir, de modo de maximizar las ganancias.\n",
        "\n",
        "El primer paso del equipo de investigación de operaciones fue juntar todas las informaciones necesarias, como la capacidad de producción de cada planta, cuánta capacidad se necesita para cada mesa y cuál es la rentabilidad de cada producto. Lo obtenido por el equipo fue lo siguiente.\n",
        "\n",
        "Tabla 1: Datos para el problema de mezcla de productos de la empresa Omega\n",
        "![Tabla 1.png](data:image/png;base64,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)\n",
        "\n",
        "En este caso, la decisión se toma sobre la tasa de producción semanal para cada tipo de mesa. Denotamos con x1 la tasa por hora de producción de mesas de madera y con x2 la tasa por hora de producción de mesas de vidrio. Las ganancias por hora están determinadas por la función Z = 30000 * x1 + 50000 * x2."
      ],
      "metadata": {
        "id": "lmTP4ZVghhps"
      }
    },
    {
      "cell_type": "code",
      "execution_count": null,
      "metadata": {
        "colab": {
          "base_uri": "https://localhost:8080/"
        },
        "id": "I14bG2o5dVDh",
        "outputId": "c2438ba2-9509-4fce-ac09-24edf46fdf59"
      },
      "outputs": [
        {
          "output_type": "stream",
          "name": "stdout",
          "text": [
            "Collecting pulp\n",
            "  Downloading PuLP-2.8.0-py3-none-any.whl (17.7 MB)\n",
            "\u001b[2K     \u001b[90m━━━━━━━━━━━━━━━━━━━━━━━━━━━━━━━━━━━━━━━━\u001b[0m \u001b[32m17.7/17.7 MB\u001b[0m \u001b[31m42.6 MB/s\u001b[0m eta \u001b[36m0:00:00\u001b[0m\n",
            "\u001b[?25hInstalling collected packages: pulp\n",
            "Successfully installed pulp-2.8.0\n"
          ]
        }
      ],
      "source": [
        "pip install pulp"
      ]
    },
    {
      "cell_type": "code",
      "source": [
        "from pulp import LpMaximize, LpProblem, LpVariable\n",
        "\n",
        "# Crear un problema de maximización lineal\n",
        "prob = LpProblem(name=\"Mezcla_de_Productos\", sense=LpMaximize)\n",
        "\n",
        "# Definir las variables de decisión\n",
        "x1 = LpVariable(name=\"Mesas_de_Madera\", lowBound=0)\n",
        "x2 = LpVariable(name=\"Mesas_de_Vidrio\", lowBound=0)\n",
        "\n",
        "# Definir la función objetivo (ganancia)\n",
        "prob += 30000 * x1 + 50000 * x2, \"Ganancia_Total\"\n",
        "\n",
        "# Restricciones de capacidad de producción en cada planta\n",
        "prob += x1 <= 4, \"Planta1_Capacidad\"\n",
        "prob += 2 * x2 <= 12, \"Planta2_Capacidad\"\n",
        "prob += 3 * x1 + 2 * x2 <= 18, \"Planta3_Capacidad\"\n",
        "\n",
        "# Resolver el problema\n",
        "prob.solve()\n",
        "\n",
        "# Imprimir el resultado\n",
        "print(\"Estado:\", prob.status)\n",
        "print(\"Mesas de Madera (x1):\", round(x1.value(), 2))\n",
        "print(\"Mesas de Vidrio (x2):\", round(x2.value(), 2))\n",
        "print(\"Ganancia Total:\", round(prob.objective.value(), 2))\n"
      ],
      "metadata": {
        "colab": {
          "base_uri": "https://localhost:8080/"
        },
        "id": "eiFhkY1odeBA",
        "outputId": "0d283d0e-e271-4d0a-91bd-d1d90c84d2e5"
      },
      "execution_count": null,
      "outputs": [
        {
          "output_type": "stream",
          "name": "stdout",
          "text": [
            "Estado: 1\n",
            "Mesas de Madera (x1): 2.0\n",
            "Mesas de Vidrio (x2): 6.0\n",
            "Ganancia Total: 360000.0\n"
          ]
        }
      ]
    }
  ]
}